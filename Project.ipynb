{
 "cells": [
  {
   "cell_type": "markdown",
   "id": "1d47bafc-0a0c-4418-899b-88535888bd07",
   "metadata": {},
   "source": [
    "# Project"
   ]
  },
  {
   "cell_type": "markdown",
   "id": "d3f1d969-727c-436d-a34f-caadda1f594c",
   "metadata": {},
   "source": [
    "You're going to build a streamlit app like the [Westminster Directory app](https://westminster-directory.streamlit.app/) or [Recipe app](https://allrecipes.streamlit.app/) I showed in class. \n",
    "\n",
    "You are expected to use what we have learned in class:\n",
    "\n",
    "- numpy\n",
    "- pandas\n",
    "- matplotlib\n",
    "- regualr expression\n",
    "- web scraping\n",
    "- streamlit \n",
    "- etc.. "
   ]
  },
  {
   "cell_type": "markdown",
   "id": "58e971ed-a2e5-4792-8c1a-0f30e9823ae9",
   "metadata": {},
   "source": [
    "## Step 1: Project Idea and Plan\n",
    "\n",
    "You need to submit your project idea and plan by the class time on 4/22 Tuesday next week.\n",
    "\n",
    "Here are some example ideas:\n",
    "\n",
    "- Weather Data: scrapes weather data from a weather website (e.g., Weather.com) for a specific location. Extract information such as temperature, humidity, wind speed, and weather condition.\n",
    "\n",
    "- Job Listings: scrapes job listings from a job search website (e.g., Indeed.com or LinkedIn). Gather details such as job title, company name, location, and job description.\n",
    "\n",
    "- News Headlines: scrapes headlines from a news website (e.g., CNN.com or BBC.com). Extract the title of the article, publication date, and a brief summary.\n",
    "\n",
    "- Wikipedia on a specific topic.\n",
    "\n",
    "- Movie: scrapes information about movies from a movie database website (e.g., IMDb or Rotten Tomatoes). Gather details such as movie title, release year, genre, cast, and ratings.\n",
    "\n",
    "- Some professional websites related to your major. \n",
    "\n",
    "Here are some example plans:\n",
    "\n",
    "- Recipe app: Provide a functionality to choose recipes at the selected range of calories. \n",
    "\n",
    "- Job app: Provide the trend of the programming languages in the market. \n",
    "\n",
    "- Movie: Provide the trend of the review rating. Analyze the sentiment and genre information. \n",
    "\n",
    "- News: Analyze how hot a topic is. \n",
    "\n",
    "## Step 2: Project\n",
    "\n",
    "You have about 2-3 weeks to build your project in following steps:\n",
    "\n",
    "1. Exploring and making a project idea and plan. \n",
    "\n",
    "2. Scraping the data. \n",
    "\n",
    "3. Desiging and drafting the interface and functionality of an app. \n",
    "\n",
    "4. Building the streamlit app in your local laptop. \n",
    "\n",
    "5. Publishing it in public via github and streamlit cloud. "
   ]
  },
  {
   "cell_type": "code",
   "execution_count": null,
   "id": "0addff07-2de7-4571-b994-11774815fc12",
   "metadata": {},
   "outputs": [],
   "source": []
  }
 ],
 "metadata": {
  "kernelspec": {
   "display_name": "Python 3 (ipykernel)",
   "language": "python",
   "name": "python3"
  },
  "language_info": {
   "codemirror_mode": {
    "name": "ipython",
    "version": 3
   },
   "file_extension": ".py",
   "mimetype": "text/x-python",
   "name": "python",
   "nbconvert_exporter": "python",
   "pygments_lexer": "ipython3",
   "version": "3.10.9"
  }
 },
 "nbformat": 4,
 "nbformat_minor": 5
}
